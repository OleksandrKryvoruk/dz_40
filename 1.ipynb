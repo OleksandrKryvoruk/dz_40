{
 "cells": [
  {
   "cell_type": "markdown",
   "id": "7cdef0b1",
   "metadata": {},
   "source": [
    "**Умова**\n",
    "\n",
    "Проведіть класифікацію на основі датасету UCI ML Breat Cancer Wisconsin, використовуючи вказані у презентації модулі бустингу, буггінгу та стекінгу. Змініть їх параметри наступним чином:\n",
    "\n",
    "- у StackingClassifier як базовий алгоритм встановіть LogisticRegression та DecisionTreeClassifier, як фінальну модель - SVC;\n",
    "- у BaggingClassifier як базовий алгоритм встановіть DecisionTreeClassifier;\n",
    "- у AdaBoostClassifier як базовий алгоритм встановіть LogisticRegression;\n",
    "- y XGBClassifier як базовий алгоритм (booster) встановіть 'gbtree'.\n",
    "\n",
    "У зведеній таблиці порівняйте результати класифікацій, наведених у коді, із класифікаціями, що отримані вами."
   ]
  },
  {
   "cell_type": "markdown",
   "id": "c42de017",
   "metadata": {},
   "source": [
    "**1. Отримаємо дані датасету та розіб'ємо на тестовий та тренувальний датасети.**"
   ]
  },
  {
   "cell_type": "code",
   "execution_count": 1,
   "id": "ce4b1a31",
   "metadata": {},
   "outputs": [],
   "source": [
    "from sklearn.datasets import load_breast_cancer\n",
    "from sklearn.model_selection import train_test_split\n",
    "\n",
    "data, target = load_breast_cancer(return_X_y=True)\n",
    "X_train, X_test, y_train, y_test = train_test_split(data, target, test_size=.3, random_state=12)"
   ]
  },
  {
   "cell_type": "markdown",
   "id": "34a819fa",
   "metadata": {},
   "source": [
    "**2. Проведемо класифікацію на основі StackingClassifier.**"
   ]
  },
  {
   "cell_type": "code",
   "execution_count": 2,
   "id": "bd4314f9",
   "metadata": {},
   "outputs": [
    {
     "name": "stdout",
     "output_type": "stream",
     "text": [
      "Якість моделі на тестовому наборі: 0.936\n"
     ]
    }
   ],
   "source": [
    "from sklearn.ensemble import StackingClassifier\n",
    "from sklearn.linear_model import LogisticRegression\n",
    "from sklearn.tree import DecisionTreeClassifier\n",
    "from sklearn.svm import SVC\n",
    "\n",
    "#створення базової моделі\n",
    "estimators = [('lgr', LogisticRegression(solver='lbfgs', max_iter=3000)),('tree', DecisionTreeClassifier(max_depth=5))]\n",
    "\n",
    "#створення моделі стекінга\n",
    "stacking_clf = StackingClassifier(estimators=estimators, final_estimator=SVC(random_state=42))\n",
    "\n",
    "#навчаємо модель\n",
    "stacking_clf = stacking_clf.fit(X_train, y_train)\n",
    "\n",
    "#отримуємо класифікацію з тестового датасуту\n",
    "y_pred = stacking_clf.predict(X_test)\n",
    "\n",
    "print(\"Якість моделі на тестовому наборі: {:.3f}\".format(stacking_clf.score(X_test, y_test)))"
   ]
  },
  {
   "cell_type": "markdown",
   "id": "e3847941",
   "metadata": {},
   "source": [
    "**3. Проведемо класифікацію на основі BaggingClassifier.**"
   ]
  },
  {
   "cell_type": "code",
   "execution_count": 3,
   "id": "86c47712",
   "metadata": {},
   "outputs": [
    {
     "name": "stdout",
     "output_type": "stream",
     "text": [
      "Якість моделі на тестовому наборі: 0.918\n"
     ]
    }
   ],
   "source": [
    "from sklearn.ensemble import BaggingClassifier\n",
    "\n",
    "modelClf_l = BaggingClassifier(estimator=DecisionTreeClassifier(max_depth=5), n_estimators=15, random_state=20)\n",
    "modelClf_l = modelClf_l.fit(X_train, y_train)\n",
    "\n",
    "print(\"Якість моделі на тестовому наборі: {:.3f}\".format(modelClf_l.score(X_test, y_test)))"
   ]
  },
  {
   "cell_type": "markdown",
   "id": "8b974785",
   "metadata": {},
   "source": [
    "**4. Проведемо класифікацію на основі AdaBoostClassifier.**"
   ]
  },
  {
   "cell_type": "code",
   "execution_count": 4,
   "id": "21f30082",
   "metadata": {},
   "outputs": [
    {
     "name": "stdout",
     "output_type": "stream",
     "text": [
      "Якість моделі на тестовому наборі: 0.936\n"
     ]
    }
   ],
   "source": [
    "from sklearn.ensemble import AdaBoostClassifier\n",
    "\n",
    "modelClf_2 = AdaBoostClassifier(estimator=LogisticRegression(solver='lbfgs', max_iter=3000), \n",
    "                                n_estimators=100, random_state=12)\n",
    "modelClf_2 = modelClf_2.fit(X_train, y_train)\n",
    "print(\"Якість моделі на тестовому наборі: {:.3f}\".format(modelClf_2.score(X_test, y_test)))"
   ]
  },
  {
   "cell_type": "markdown",
   "id": "d217eb52",
   "metadata": {},
   "source": [
    "**5. Проведемо класифікацію на основі XGBClassifier.**"
   ]
  },
  {
   "cell_type": "code",
   "execution_count": 6,
   "id": "579b69a6",
   "metadata": {},
   "outputs": [
    {
     "name": "stdout",
     "output_type": "stream",
     "text": [
      "Якість моделі на тестовому наборі: 0.912\n"
     ]
    }
   ],
   "source": [
    "from xgboost import XGBClassifier\n",
    "\n",
    "modelClf_3 = XGBClassifier(booster='gbtree', learning_rate=0.02, n_estimators=10)\n",
    "modelClf_3 = modelClf_3.fit(X_train, y_train)\n",
    "\n",
    "print(\"Якість моделі на тестовому наборі: {:.3f}\".format(modelClf_3.score(X_test, y_test)))"
   ]
  },
  {
   "cell_type": "markdown",
   "id": "3f4acac6",
   "metadata": {},
   "source": [
    "**6. Побудуємо зведену таблиці для порівняння результатів.**"
   ]
  },
  {
   "cell_type": "code",
   "execution_count": 8,
   "id": "e16fa0b6",
   "metadata": {},
   "outputs": [
    {
     "data": {
      "text/html": [
       "<div>\n",
       "<style scoped>\n",
       "    .dataframe tbody tr th:only-of-type {\n",
       "        vertical-align: middle;\n",
       "    }\n",
       "\n",
       "    .dataframe tbody tr th {\n",
       "        vertical-align: top;\n",
       "    }\n",
       "\n",
       "    .dataframe thead th {\n",
       "        text-align: right;\n",
       "    }\n",
       "</style>\n",
       "<table border=\"1\" class=\"dataframe\">\n",
       "  <thead>\n",
       "    <tr style=\"text-align: right;\">\n",
       "      <th></th>\n",
       "      <th>work</th>\n",
       "      <th>StackingClassifier</th>\n",
       "      <th>BaggingClassifier</th>\n",
       "      <th>AdaBoostClassifier</th>\n",
       "      <th>XGBClassifier</th>\n",
       "      <th>mean</th>\n",
       "      <th>max</th>\n",
       "      <th>min</th>\n",
       "    </tr>\n",
       "  </thead>\n",
       "  <tbody>\n",
       "    <tr>\n",
       "      <th>0</th>\n",
       "      <td>Example</td>\n",
       "      <td>0.912</td>\n",
       "      <td>0.941</td>\n",
       "      <td>0.906</td>\n",
       "      <td>0.854</td>\n",
       "      <td>0.903</td>\n",
       "      <td>0.941</td>\n",
       "      <td>0.854</td>\n",
       "    </tr>\n",
       "    <tr>\n",
       "      <th>1</th>\n",
       "      <td>New_analysis</td>\n",
       "      <td>0.936</td>\n",
       "      <td>0.918</td>\n",
       "      <td>0.936</td>\n",
       "      <td>0.912</td>\n",
       "      <td>0.926</td>\n",
       "      <td>0.936</td>\n",
       "      <td>0.912</td>\n",
       "    </tr>\n",
       "  </tbody>\n",
       "</table>\n",
       "</div>"
      ],
      "text/plain": [
       "           work  StackingClassifier  BaggingClassifier  AdaBoostClassifier  \\\n",
       "0       Example               0.912              0.941               0.906   \n",
       "1  New_analysis               0.936              0.918               0.936   \n",
       "\n",
       "   XGBClassifier   mean    max    min  \n",
       "0          0.854  0.903  0.941  0.854  \n",
       "1          0.912  0.926  0.936  0.912  "
      ]
     },
     "execution_count": 8,
     "metadata": {},
     "output_type": "execute_result"
    }
   ],
   "source": [
    "import pandas as pd\n",
    "\n",
    "df = pd.DataFrame()\n",
    "df[\"work\"] = [\"Example\", \"New_analysis\"]\n",
    "df[\"StackingClassifier\"] = [0.912, round(stacking_clf.score(X_test, y_test), 3)]\n",
    "df[\"BaggingClassifier\"] = [0.941, round(modelClf_l.score(X_test, y_test), 3)]\n",
    "df[\"AdaBoostClassifier\"] = [0.906, round(modelClf_2.score(X_test, y_test), 3)]\n",
    "df[\"XGBClassifier\"] = [0.854, round(modelClf_3.score(X_test, y_test), 3)]\n",
    "df[\"mean\"] = round(df.iloc[:, 1:].mean(axis=1), 3)\n",
    "df[\"max\"] = df.iloc[:, 1:-1].max(axis=1)\n",
    "df[\"min\"] = df.iloc[:, 1:-1].min(axis=1)\n",
    "df"
   ]
  }
 ],
 "metadata": {
  "kernelspec": {
   "display_name": "Python 3 (ipykernel)",
   "language": "python",
   "name": "python3"
  },
  "language_info": {
   "codemirror_mode": {
    "name": "ipython",
    "version": 3
   },
   "file_extension": ".py",
   "mimetype": "text/x-python",
   "name": "python",
   "nbconvert_exporter": "python",
   "pygments_lexer": "ipython3",
   "version": "3.9.7"
  }
 },
 "nbformat": 4,
 "nbformat_minor": 5
}
